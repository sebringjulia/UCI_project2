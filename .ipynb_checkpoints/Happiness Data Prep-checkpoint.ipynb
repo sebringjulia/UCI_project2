{
 "cells": [
  {
   "cell_type": "code",
   "execution_count": 1,
   "metadata": {},
   "outputs": [],
   "source": [
    "import pandas as pd"
   ]
  },
  {
   "cell_type": "code",
   "execution_count": null,
   "metadata": {},
   "outputs": [],
   "source": [
    "happiness_data_2015 = pd.read_csv(\"data/2015.csv\")\n",
    "happiness_data_2016 = pd.read_csv(\"data/2016.csv\")\n",
    "happiness_data_2017 = pd.read_csv(\"data/2017.csv\")\n",
    "happiness_data_2018 = pd.read_csv(\"data/2018.csv\")"
   ]
  }
 ],
 "metadata": {
  "kernelspec": {
   "display_name": "Python 3",
   "language": "python",
   "name": "python3"
  },
  "language_info": {
   "codemirror_mode": {
    "name": "ipython",
    "version": 3
   },
   "file_extension": ".py",
   "mimetype": "text/x-python",
   "name": "python",
   "nbconvert_exporter": "python",
   "pygments_lexer": "ipython3",
   "version": "3.7.3"
  }
 },
 "nbformat": 4,
 "nbformat_minor": 2
}
